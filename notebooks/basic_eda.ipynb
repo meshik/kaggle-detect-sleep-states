{
 "cells": [
  {
   "cell_type": "code",
   "execution_count": null,
   "metadata": {},
   "outputs": [],
   "source": [
    "# Sleep Definitions, Rules, and Constraints for the Kaggle Sleep Detection Competition\n",
    "\n",
    "# Goal:\n",
    "# - Detect two types of events: sleep onset (beginning of sleep) and wake-up (end of sleep) from accelerometer data.\n",
    "\n",
    "# Sleep Definition:\n",
    "# - Sleep is referred to as the longest single period of inactivity while the accelerometer is being worn.\n",
    "\n",
    "# Important Guidelines:\n",
    "# - A single sleep period must be at least 30 minutes in length.\n",
    "# - A sleep period can be interrupted by bouts of activity that do not exceed 30 consecutive minutes.\n",
    "# - Only the longest sleep window is recorded per night.\n",
    "# - No sleep windows can be detected unless the watch is deemed to be worn for the duration.\n",
    "# - If no valid sleep window is identifiable, neither an onset nor a wakeup event is recorded for that night.\n",
    "# - Sleep events do not need to straddle the day-line, and there's no hard rule defining how many may occur within a given period.\n",
    "# - However, no more than one window should be assigned per night.\n",
    "# - For example, it's valid to have a sleep window from 01:00–06:00 and 19:00–23:30 in the same calendar day, though assigned to consecutive nights.\n",
    "\n",
    "# Data Handling Guidelines:\n",
    "# - There might be periods within a series where the accelerometer device was removed, these periods should be ignored as they will be scored as false positives."
   ]
  },
  {
   "cell_type": "code",
   "execution_count": 3,
   "metadata": {},
   "outputs": [
    {
     "name": "stdout",
     "output_type": "stream",
     "text": [
      "Training Series: (127946340, 5)\n",
      "      series_id  step                 timestamp  anglez    enmo\n",
      "0  038441c925bb     0  2018-08-14T15:30:00-0400  2.6367  0.0217\n",
      "1  038441c925bb     1  2018-08-14T15:30:05-0400  2.6368  0.0215\n",
      "2  038441c925bb     2  2018-08-14T15:30:10-0400  2.6370  0.0216\n",
      "3  038441c925bb     3  2018-08-14T15:30:15-0400  2.6368  0.0213\n",
      "4  038441c925bb     4  2018-08-14T15:30:20-0400  2.6368  0.0215\n",
      "Test Series: (450, 5)\n",
      "      series_id  step                 timestamp  anglez    enmo\n",
      "0  038441c925bb     0  2018-08-14T15:30:00-0400  2.6367  0.0217\n",
      "1  038441c925bb     1  2018-08-14T15:30:05-0400  2.6368  0.0215\n",
      "2  038441c925bb     2  2018-08-14T15:30:10-0400  2.6370  0.0216\n",
      "3  038441c925bb     3  2018-08-14T15:30:15-0400  2.6368  0.0213\n",
      "4  038441c925bb     4  2018-08-14T15:30:20-0400  2.6368  0.0215\n",
      "Training Events: (14508, 5)\n",
      "      series_id  night   event     step                 timestamp\n",
      "0  038441c925bb      1   onset   4992.0  2018-08-14T22:26:00-0400\n",
      "1  038441c925bb      1  wakeup  10932.0  2018-08-15T06:41:00-0400\n",
      "2  038441c925bb      2   onset  20244.0  2018-08-15T19:37:00-0400\n",
      "3  038441c925bb      2  wakeup  27492.0  2018-08-16T05:41:00-0400\n",
      "4  038441c925bb      3   onset  39996.0  2018-08-16T23:03:00-0400\n"
     ]
    }
   ],
   "source": [
    "import pandas as pd\n",
    "import numpy as np\n",
    "\n",
    "# Load the training and test series data\n",
    "train_series = pd.read_parquet('../data/train_series.parquet')\n",
    "test_series = pd.read_parquet('../data/test_series.parquet')\n",
    "\n",
    "# Load the training events data\n",
    "train_events = pd.read_csv('../data/train_events.csv')\n",
    "\n",
    "# perform comprehensive EDA on the data, by using f-strings to print out many different statistics\n",
    "# Display the first few rows of each dataset to understand their structure\n",
    "print(f\"Training Series: {train_series.shape}\")\n",
    "print(train_series.head())\n",
    "print(f\"Test Series: {test_series.shape}\")\n",
    "print(test_series.head())\n",
    "print(f\"Training Events: {train_events.shape}\")\n",
    "print(train_events.head())\n"
   ]
  },
  {
   "cell_type": "code",
   "execution_count": 4,
   "metadata": {},
   "outputs": [
    {
     "name": "stdout",
     "output_type": "stream",
     "text": [
      "Training Series: 277\n",
      "Test Series: 3\n",
      "Training Events: 277\n"
     ]
    }
   ],
   "source": [
    "# Display the number of unique series_id's in each dataset\n",
    "print(f\"Training Series: {train_series.series_id.nunique()}\")\n",
    "print(f\"Test Series: {test_series.series_id.nunique()}\")\n",
    "print(f\"Training Events: {train_events.series_id.nunique()}\")\n"
   ]
  }
 ],
 "metadata": {
  "kernelspec": {
   "display_name": "Python 3",
   "language": "python",
   "name": "python3"
  },
  "language_info": {
   "codemirror_mode": {
    "name": "ipython",
    "version": 3
   },
   "file_extension": ".py",
   "mimetype": "text/x-python",
   "name": "python",
   "nbconvert_exporter": "python",
   "pygments_lexer": "ipython3",
   "version": "3.10.11"
  }
 },
 "nbformat": 4,
 "nbformat_minor": 2
}
