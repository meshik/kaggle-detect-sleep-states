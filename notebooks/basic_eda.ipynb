{
 "cells": [
  {
   "cell_type": "code",
   "execution_count": null,
   "metadata": {},
   "outputs": [],
   "source": [
    "# Sleep Definitions, Rules, and Constraints for the Kaggle Sleep Detection Competition\n",
    "\n",
    "# Goal:\n",
    "# - Detect two types of events: sleep onset (beginning of sleep) and wake-up (end of sleep) from accelerometer data.\n",
    "\n",
    "# Sleep Definition:\n",
    "# - Sleep is referred to as the longest single period of inactivity while the accelerometer is being worn.\n",
    "\n",
    "# Important Guidelines:\n",
    "# - A single sleep period must be at least 30 minutes in length.\n",
    "# - A sleep period can be interrupted by bouts of activity that do not exceed 30 consecutive minutes.\n",
    "# - Only the longest sleep window is recorded per night.\n",
    "# - No sleep windows can be detected unless the watch is deemed to be worn for the duration.\n",
    "# - If no valid sleep window is identifiable, neither an onset nor a wakeup event is recorded for that night.\n",
    "# - Sleep events do not need to straddle the day-line, and there's no hard rule defining how many may occur within a given period.\n",
    "# - However, no more than one window should be assigned per night.\n",
    "# - For example, it's valid to have a sleep window from 01:00–06:00 and 19:00–23:30 in the same calendar day, though assigned to consecutive nights.\n",
    "\n",
    "# Data Handling Guidelines:\n",
    "# - There might be periods within a series where the accelerometer device was removed, these periods should be ignored as they will be scored as false positives."
   ]
  },
  {
   "cell_type": "code",
   "execution_count": null,
   "metadata": {},
   "outputs": [],
   "source": []
  }
 ],
 "metadata": {
  "language_info": {
   "name": "python"
  }
 },
 "nbformat": 4,
 "nbformat_minor": 2
}
